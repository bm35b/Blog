{
  "cells": [
    {
      "cell_type": "markdown",
      "metadata": {
        "id": "view-in-github",
        "colab_type": "text"
      },
      "source": [
        "<a href=\"https://colab.research.google.com/github/bm35b/Blog/blob/master/data_exploration.ipynb\" target=\"_parent\"><img src=\"https://colab.research.google.com/assets/colab-badge.svg\" alt=\"Open In Colab\"/></a>"
      ]
    },
    {
      "cell_type": "markdown",
      "metadata": {
        "id": "oacec2gWRhRi"
      },
      "source": [
        "# Survey123 data exploration \n",
        "\n",
        "Goals of this notebook:\n",
        "\n",
        "- Load up the Survey123 data, and take a look at it\n",
        "- Get familiar with [`pandas`](https://pandas.pydata.org/), a library for data exploration in python\n",
        "- Make some plots of the data"
      ]
    },
    {
      "cell_type": "code",
      "execution_count": null,
      "metadata": {
        "id": "VROLzYHNRhRl"
      },
      "outputs": [],
      "source": [
        "%matplotlib inline\n",
        "\n",
        "import matplotlib.pyplot as plt\n",
        "import pandas as pd"
      ]
    },
    {
      "cell_type": "markdown",
      "metadata": {
        "id": "OnxpQekJRhRn"
      },
      "source": [
        "### Loading the data\n",
        "\n",
        "The cell below creates some variable - `data` - which contains all the data.\n",
        "\n",
        "`.head()` tells `python` \"show me the first few rows of this data\" - so we can quickly check that it looks like what we expect."
      ]
    },
    {
      "cell_type": "code",
      "execution_count": null,
      "metadata": {
        "colab": {
          "base_uri": "https://localhost:8080/"
        },
        "id": "iyJqW-VdRhRn",
        "outputId": "2fba11f3-ac61-4df6-c03f-b8ccafb4feab"
      },
      "outputs": [
        {
          "output_type": "execute_result",
          "data": {
            "text/plain": [
              "273"
            ]
          },
          "metadata": {},
          "execution_count": 2
        }
      ],
      "source": [
        "url='https://drive.google.com/file/d/1bayMcfy2Iw_SqyeWTmyscAMzPGx2JBaf/view?usp=sharing'\n",
        "url='https://drive.google.com/uc?id=' + url.split('/')[-2]\n",
        "data = pd.read_csv(url)\n",
        "\n",
        "# the url is only necessary because the file is on google drive. If I\n",
        "# had it saved on my computer then I could just do the following:\n",
        "# `data = pd.read_csv(\"survey_0.csv\")`\n",
        "len(data)"
      ]
    },
    {
      "cell_type": "code",
      "execution_count": null,
      "metadata": {
        "colab": {
          "base_uri": "https://localhost:8080/",
          "height": 722
        },
        "id": "CF6PfeYsRhRo",
        "outputId": "dcc1fe0d-fcbb-4c62-e6b7-53f0885b8c23"
      },
      "outputs": [
        {
          "output_type": "execute_result",
          "data": {
            "text/plain": [
              "   ObjectID                              GlobalID          CreationDate  \\\n",
              "0         1  91f4ba6f-7786-4fc9-b173-d13f2bd95228  1/10/2023 8:11:20 PM   \n",
              "1         2  e0390d4d-8cdf-4651-b377-e5037dd7f5d6  1/17/2023 5:45:17 PM   \n",
              "2         3  c68383f6-69d5-4fc9-bb4b-fd27e7fe105d  1/17/2023 6:52:00 PM   \n",
              "3         4  ec1491e5-2199-46ad-8423-25115326e2d2  1/17/2023 6:52:04 PM   \n",
              "4         5  66e0706a-cf80-49f6-92a3-e788bc1d003f  1/17/2023 9:10:44 PM   \n",
              "\n",
              "                      Creator              EditDate  \\\n",
              "0           NASAHarvest_UofMD  1/10/2023 8:11:20 PM   \n",
              "1           NASAHarvest_UofMD  1/17/2023 5:45:17 PM   \n",
              "2  NASAHarvestCollector_UofMD  1/17/2023 6:52:00 PM   \n",
              "3  NASAHarvestCollector_UofMD  1/17/2023 6:52:04 PM   \n",
              "4  NASAHarvestCollector_UofMD  1/17/2023 9:10:44 PM   \n",
              "\n",
              "                       Editor       Your name  \\\n",
              "0           NASAHarvest_UofMD          Ivan Z   \n",
              "1           NASAHarvest_UofMD  Hannah Kerner    \n",
              "2  NASAHarvestCollector_UofMD          Hannah   \n",
              "3  NASAHarvestCollector_UofMD          Hannah   \n",
              "4  NASAHarvestCollector_UofMD   Gabriel Tseng   \n",
              "\n",
              "  What is the date and time of collection? Where are you recording the point?  \\\n",
              "0                     1/10/2023 8:04:00 PM           On the edge of the field   \n",
              "1                                      NaN           On the edge of the field   \n",
              "2                                      NaN                   Inside the field   \n",
              "3                                      NaN                   Inside the field   \n",
              "4                                      NaN           On the edge of the field   \n",
              "\n",
              "  Are there no crops (fallow or pasture), one crop, or multiple crops growing in the field?  \\\n",
              "0                                             Fallow                                          \n",
              "1                                     Multiple crops                                          \n",
              "2                                           One crop                                          \n",
              "3                                           One crop                                          \n",
              "4                                            Pasture                                          \n",
              "\n",
              "  Which crop(s) are present in the field?  \\\n",
              "0                                     NaN   \n",
              "1                 niu_(coconut),pineapple   \n",
              "2                       `ulu_(breadfruit)   \n",
              "3                          mai`a_(banana)   \n",
              "4                                     NaN   \n",
              "\n",
              "  Other - Which crop(s) are present in the field?  \\\n",
              "0                                             NaN   \n",
              "1                                             NaN   \n",
              "2                                             NaN   \n",
              "3                                             NaN   \n",
              "4                                             NaN   \n",
              "\n",
              "  [OPTIONAL] If you selected multiple crops in the previous question, is there a dominant crop?  \\\n",
              "0                                                NaN                                              \n",
              "1                                                NaN                                              \n",
              "2                                                NaN                                              \n",
              "3                                                NaN                                              \n",
              "4                                                NaN                                              \n",
              "\n",
              "  Other - [OPTIONAL] If you selected multiple crops in the previous question, is there a dominant crop?  \\\n",
              "0                                                NaN                                                      \n",
              "1                                                NaN                                                      \n",
              "2                                                NaN                                                      \n",
              "3                                                NaN                                                      \n",
              "4                                                NaN                                                      \n",
              "\n",
              "  [OPTIONAL] Additional notes           x          y  \n",
              "0                         NaN -111.926638  33.368374  \n",
              "1                         NaN -111.926715  33.368422  \n",
              "2                         NaN -111.926731  33.368394  \n",
              "3                         NaN -111.926730  33.368374  \n",
              "4                         NaN -156.343561  20.883135  "
            ],
            "text/html": [
              "\n",
              "  <div id=\"df-c3ce1bbc-2e32-4662-a92e-daef9a06af76\">\n",
              "    <div class=\"colab-df-container\">\n",
              "      <div>\n",
              "<style scoped>\n",
              "    .dataframe tbody tr th:only-of-type {\n",
              "        vertical-align: middle;\n",
              "    }\n",
              "\n",
              "    .dataframe tbody tr th {\n",
              "        vertical-align: top;\n",
              "    }\n",
              "\n",
              "    .dataframe thead th {\n",
              "        text-align: right;\n",
              "    }\n",
              "</style>\n",
              "<table border=\"1\" class=\"dataframe\">\n",
              "  <thead>\n",
              "    <tr style=\"text-align: right;\">\n",
              "      <th></th>\n",
              "      <th>ObjectID</th>\n",
              "      <th>GlobalID</th>\n",
              "      <th>CreationDate</th>\n",
              "      <th>Creator</th>\n",
              "      <th>EditDate</th>\n",
              "      <th>Editor</th>\n",
              "      <th>Your name</th>\n",
              "      <th>What is the date and time of collection?</th>\n",
              "      <th>Where are you recording the point?</th>\n",
              "      <th>Are there no crops (fallow or pasture), one crop, or multiple crops growing in the field?</th>\n",
              "      <th>Which crop(s) are present in the field?</th>\n",
              "      <th>Other - Which crop(s) are present in the field?</th>\n",
              "      <th>[OPTIONAL] If you selected multiple crops in the previous question, is there a dominant crop?</th>\n",
              "      <th>Other - [OPTIONAL] If you selected multiple crops in the previous question, is there a dominant crop?</th>\n",
              "      <th>[OPTIONAL] Additional notes</th>\n",
              "      <th>x</th>\n",
              "      <th>y</th>\n",
              "    </tr>\n",
              "  </thead>\n",
              "  <tbody>\n",
              "    <tr>\n",
              "      <th>0</th>\n",
              "      <td>1</td>\n",
              "      <td>91f4ba6f-7786-4fc9-b173-d13f2bd95228</td>\n",
              "      <td>1/10/2023 8:11:20 PM</td>\n",
              "      <td>NASAHarvest_UofMD</td>\n",
              "      <td>1/10/2023 8:11:20 PM</td>\n",
              "      <td>NASAHarvest_UofMD</td>\n",
              "      <td>Ivan Z</td>\n",
              "      <td>1/10/2023 8:04:00 PM</td>\n",
              "      <td>On the edge of the field</td>\n",
              "      <td>Fallow</td>\n",
              "      <td>NaN</td>\n",
              "      <td>NaN</td>\n",
              "      <td>NaN</td>\n",
              "      <td>NaN</td>\n",
              "      <td>NaN</td>\n",
              "      <td>-111.926638</td>\n",
              "      <td>33.368374</td>\n",
              "    </tr>\n",
              "    <tr>\n",
              "      <th>1</th>\n",
              "      <td>2</td>\n",
              "      <td>e0390d4d-8cdf-4651-b377-e5037dd7f5d6</td>\n",
              "      <td>1/17/2023 5:45:17 PM</td>\n",
              "      <td>NASAHarvest_UofMD</td>\n",
              "      <td>1/17/2023 5:45:17 PM</td>\n",
              "      <td>NASAHarvest_UofMD</td>\n",
              "      <td>Hannah Kerner</td>\n",
              "      <td>NaN</td>\n",
              "      <td>On the edge of the field</td>\n",
              "      <td>Multiple crops</td>\n",
              "      <td>niu_(coconut),pineapple</td>\n",
              "      <td>NaN</td>\n",
              "      <td>NaN</td>\n",
              "      <td>NaN</td>\n",
              "      <td>NaN</td>\n",
              "      <td>-111.926715</td>\n",
              "      <td>33.368422</td>\n",
              "    </tr>\n",
              "    <tr>\n",
              "      <th>2</th>\n",
              "      <td>3</td>\n",
              "      <td>c68383f6-69d5-4fc9-bb4b-fd27e7fe105d</td>\n",
              "      <td>1/17/2023 6:52:00 PM</td>\n",
              "      <td>NASAHarvestCollector_UofMD</td>\n",
              "      <td>1/17/2023 6:52:00 PM</td>\n",
              "      <td>NASAHarvestCollector_UofMD</td>\n",
              "      <td>Hannah</td>\n",
              "      <td>NaN</td>\n",
              "      <td>Inside the field</td>\n",
              "      <td>One crop</td>\n",
              "      <td>`ulu_(breadfruit)</td>\n",
              "      <td>NaN</td>\n",
              "      <td>NaN</td>\n",
              "      <td>NaN</td>\n",
              "      <td>NaN</td>\n",
              "      <td>-111.926731</td>\n",
              "      <td>33.368394</td>\n",
              "    </tr>\n",
              "    <tr>\n",
              "      <th>3</th>\n",
              "      <td>4</td>\n",
              "      <td>ec1491e5-2199-46ad-8423-25115326e2d2</td>\n",
              "      <td>1/17/2023 6:52:04 PM</td>\n",
              "      <td>NASAHarvestCollector_UofMD</td>\n",
              "      <td>1/17/2023 6:52:04 PM</td>\n",
              "      <td>NASAHarvestCollector_UofMD</td>\n",
              "      <td>Hannah</td>\n",
              "      <td>NaN</td>\n",
              "      <td>Inside the field</td>\n",
              "      <td>One crop</td>\n",
              "      <td>mai`a_(banana)</td>\n",
              "      <td>NaN</td>\n",
              "      <td>NaN</td>\n",
              "      <td>NaN</td>\n",
              "      <td>NaN</td>\n",
              "      <td>-111.926730</td>\n",
              "      <td>33.368374</td>\n",
              "    </tr>\n",
              "    <tr>\n",
              "      <th>4</th>\n",
              "      <td>5</td>\n",
              "      <td>66e0706a-cf80-49f6-92a3-e788bc1d003f</td>\n",
              "      <td>1/17/2023 9:10:44 PM</td>\n",
              "      <td>NASAHarvestCollector_UofMD</td>\n",
              "      <td>1/17/2023 9:10:44 PM</td>\n",
              "      <td>NASAHarvestCollector_UofMD</td>\n",
              "      <td>Gabriel Tseng</td>\n",
              "      <td>NaN</td>\n",
              "      <td>On the edge of the field</td>\n",
              "      <td>Pasture</td>\n",
              "      <td>NaN</td>\n",
              "      <td>NaN</td>\n",
              "      <td>NaN</td>\n",
              "      <td>NaN</td>\n",
              "      <td>NaN</td>\n",
              "      <td>-156.343561</td>\n",
              "      <td>20.883135</td>\n",
              "    </tr>\n",
              "  </tbody>\n",
              "</table>\n",
              "</div>\n",
              "      <button class=\"colab-df-convert\" onclick=\"convertToInteractive('df-c3ce1bbc-2e32-4662-a92e-daef9a06af76')\"\n",
              "              title=\"Convert this dataframe to an interactive table.\"\n",
              "              style=\"display:none;\">\n",
              "        \n",
              "  <svg xmlns=\"http://www.w3.org/2000/svg\" height=\"24px\"viewBox=\"0 0 24 24\"\n",
              "       width=\"24px\">\n",
              "    <path d=\"M0 0h24v24H0V0z\" fill=\"none\"/>\n",
              "    <path d=\"M18.56 5.44l.94 2.06.94-2.06 2.06-.94-2.06-.94-.94-2.06-.94 2.06-2.06.94zm-11 1L8.5 8.5l.94-2.06 2.06-.94-2.06-.94L8.5 2.5l-.94 2.06-2.06.94zm10 10l.94 2.06.94-2.06 2.06-.94-2.06-.94-.94-2.06-.94 2.06-2.06.94z\"/><path d=\"M17.41 7.96l-1.37-1.37c-.4-.4-.92-.59-1.43-.59-.52 0-1.04.2-1.43.59L10.3 9.45l-7.72 7.72c-.78.78-.78 2.05 0 2.83L4 21.41c.39.39.9.59 1.41.59.51 0 1.02-.2 1.41-.59l7.78-7.78 2.81-2.81c.8-.78.8-2.07 0-2.86zM5.41 20L4 18.59l7.72-7.72 1.47 1.35L5.41 20z\"/>\n",
              "  </svg>\n",
              "      </button>\n",
              "      \n",
              "  <style>\n",
              "    .colab-df-container {\n",
              "      display:flex;\n",
              "      flex-wrap:wrap;\n",
              "      gap: 12px;\n",
              "    }\n",
              "\n",
              "    .colab-df-convert {\n",
              "      background-color: #E8F0FE;\n",
              "      border: none;\n",
              "      border-radius: 50%;\n",
              "      cursor: pointer;\n",
              "      display: none;\n",
              "      fill: #1967D2;\n",
              "      height: 32px;\n",
              "      padding: 0 0 0 0;\n",
              "      width: 32px;\n",
              "    }\n",
              "\n",
              "    .colab-df-convert:hover {\n",
              "      background-color: #E2EBFA;\n",
              "      box-shadow: 0px 1px 2px rgba(60, 64, 67, 0.3), 0px 1px 3px 1px rgba(60, 64, 67, 0.15);\n",
              "      fill: #174EA6;\n",
              "    }\n",
              "\n",
              "    [theme=dark] .colab-df-convert {\n",
              "      background-color: #3B4455;\n",
              "      fill: #D2E3FC;\n",
              "    }\n",
              "\n",
              "    [theme=dark] .colab-df-convert:hover {\n",
              "      background-color: #434B5C;\n",
              "      box-shadow: 0px 1px 3px 1px rgba(0, 0, 0, 0.15);\n",
              "      filter: drop-shadow(0px 1px 2px rgba(0, 0, 0, 0.3));\n",
              "      fill: #FFFFFF;\n",
              "    }\n",
              "  </style>\n",
              "\n",
              "      <script>\n",
              "        const buttonEl =\n",
              "          document.querySelector('#df-c3ce1bbc-2e32-4662-a92e-daef9a06af76 button.colab-df-convert');\n",
              "        buttonEl.style.display =\n",
              "          google.colab.kernel.accessAllowed ? 'block' : 'none';\n",
              "\n",
              "        async function convertToInteractive(key) {\n",
              "          const element = document.querySelector('#df-c3ce1bbc-2e32-4662-a92e-daef9a06af76');\n",
              "          const dataTable =\n",
              "            await google.colab.kernel.invokeFunction('convertToInteractive',\n",
              "                                                     [key], {});\n",
              "          if (!dataTable) return;\n",
              "\n",
              "          const docLinkHtml = 'Like what you see? Visit the ' +\n",
              "            '<a target=\"_blank\" href=https://colab.research.google.com/notebooks/data_table.ipynb>data table notebook</a>'\n",
              "            + ' to learn more about interactive tables.';\n",
              "          element.innerHTML = '';\n",
              "          dataTable['output_type'] = 'display_data';\n",
              "          await google.colab.output.renderOutput(dataTable, element);\n",
              "          const docLink = document.createElement('div');\n",
              "          docLink.innerHTML = docLinkHtml;\n",
              "          element.appendChild(docLink);\n",
              "        }\n",
              "      </script>\n",
              "    </div>\n",
              "  </div>\n",
              "  "
            ]
          },
          "metadata": {},
          "execution_count": 3
        }
      ],
      "source": [
        "data.head()"
      ]
    },
    {
      "cell_type": "markdown",
      "metadata": {
        "id": "DdFwIikwRhRo"
      },
      "source": [
        "### Basic manipulations using `pd` functions"
      ]
    },
    {
      "cell_type": "markdown",
      "metadata": {
        "id": "u3YPurypRhRp"
      },
      "source": [
        "Just like a spreadsheet or a table, we can break the `data` object into rows and columns. We can isolate columns using the following code:\n",
        "\n",
        "```python\n",
        "\n",
        "data[\"<NAME OF COLUMN>\"]\n",
        "\n",
        "```"
      ]
    },
    {
      "cell_type": "code",
      "execution_count": null,
      "metadata": {
        "colab": {
          "base_uri": "https://localhost:8080/"
        },
        "id": "vl8LfF--RhRp",
        "outputId": "c1f779cd-fd32-40a9-e5f6-9988b19a1f21"
      },
      "outputs": [
        {
          "output_type": "execute_result",
          "data": {
            "text/plain": [
              "0                Ivan Z\n",
              "1        Hannah Kerner \n",
              "2                Hannah\n",
              "3                Hannah\n",
              "4         Gabriel Tseng\n",
              "             ...       \n",
              "268    Carter Rosenthal\n",
              "269    Carter Rosenthal\n",
              "270    Carter Rosenthal\n",
              "271    Carter Rosenthal\n",
              "272    Carter Rosenthal\n",
              "Name: Your name, Length: 273, dtype: object"
            ]
          },
          "metadata": {},
          "execution_count": 4
        }
      ],
      "source": [
        "data[\"Your name\"]"
      ]
    },
    {
      "cell_type": "markdown",
      "metadata": {
        "id": "QppxwGiyRhRq"
      },
      "source": [
        "Or a row. Here we use `iloc`, short for \"index location\":\n",
        "\n",
        "```python\n",
        "data.iloc[<INDEX NUMBER>]\n",
        "```"
      ]
    },
    {
      "cell_type": "code",
      "execution_count": null,
      "metadata": {
        "colab": {
          "base_uri": "https://localhost:8080/"
        },
        "id": "oG6LQaAuRhRq",
        "outputId": "13b54d1a-753e-4670-9ebf-48a6596c53cf"
      },
      "outputs": [
        {
          "output_type": "execute_result",
          "data": {
            "text/plain": [
              "ObjectID                                                                                                                                  101\n",
              "GlobalID                                                                                                 71c6838f-b1f2-44c3-b1d9-1939cda3f63f\n",
              "CreationDate                                                                                                              2/5/2023 1:19:40 AM\n",
              "Creator                                                                                                                                   NaN\n",
              "EditDate                                                                                                                  2/5/2023 1:19:40 AM\n",
              "Editor                                                                                                                                    NaN\n",
              "Your name                                                                                                                         Mary Alleca\n",
              "What is the date and time of collection?                                                                                                  NaN\n",
              "Where are you recording the point?                                                                                           Inside the field\n",
              "Are there no crops (fallow or pasture), one crop, or multiple crops growing in the field?                                      Multiple crops\n",
              "Which crop(s) are present in the field?                                                                                                 other\n",
              "Other - Which crop(s) are present in the field?                                                                                  Okra, tomato\n",
              "[OPTIONAL] If you selected multiple crops in the previous question, is there a dominant crop?                                             NaN\n",
              "Other - [OPTIONAL] If you selected multiple crops in the previous question, is there a dominant crop?                                     NaN\n",
              "[OPTIONAL] Additional notes                                                                                                               NaN\n",
              "x                                                                                                                                 -156.500528\n",
              "y                                                                                                                                   20.828845\n",
              "Name: 100, dtype: object"
            ]
          },
          "metadata": {},
          "execution_count": 5
        }
      ],
      "source": [
        "data.iloc[100]"
      ]
    },
    {
      "cell_type": "markdown",
      "metadata": {
        "id": "XzxgMd5cRhRr"
      },
      "source": [
        "As we discussed in person, each row here maps to a point on Google Earth:"
      ]
    },
    {
      "cell_type": "code",
      "execution_count": null,
      "metadata": {
        "colab": {
          "base_uri": "https://localhost:8080/"
        },
        "id": "wAUMKshlRhRr",
        "outputId": "af0b9a04-0fb7-46f8-e64f-3401ecccf6d3"
      },
      "outputs": [
        {
          "output_type": "stream",
          "name": "stdout",
          "text": [
            "Google maps: http://maps.google.com/maps?z=12&t=k&q=loc:20.82884508+-156.50052809\n"
          ]
        }
      ],
      "source": [
        "lat, lon = data.iloc[100].y, data.iloc[100].x\n",
        "gmap_url = \"http://maps.google.com/maps?z=12&t=k&q=loc:\"\n",
        "print(f\"Google maps: {gmap_url}{lat}+{lon}\")"
      ]
    },
    {
      "cell_type": "markdown",
      "metadata": {
        "id": "QveIn1qIRhRr"
      },
      "source": [
        "A useful function when looking at columns is `.unique`, which tells you the unique values in a column:"
      ]
    },
    {
      "cell_type": "code",
      "execution_count": null,
      "metadata": {
        "colab": {
          "base_uri": "https://localhost:8080/"
        },
        "id": "KdmjdyS-RhRs",
        "outputId": "4873ec7d-63de-4fd2-fb99-200763b5a934"
      },
      "outputs": [
        {
          "output_type": "execute_result",
          "data": {
            "text/plain": [
              "array(['Ivan Z', 'Hannah Kerner ', 'Hannah', 'Gabriel Tseng', 'akw',\n",
              "       'Catherine Nakalembe', 'Jacob Adler', 'H', 'Kerner',\n",
              "       'Nicolette van der Lee', 'Nick adams ', 'Jeffrey wayer',\n",
              "       'Paige Moffitt', 'Dylan Bowen ', 'Charlotte Cabaccang',\n",
              "       'Joshua D Hinau - Nanod', 'jerry isdale', 'Sean McCormick',\n",
              "       'Rohan Fahland', 'Anna Galbreath ', 'Anna Galbreath',\n",
              "       'Brigette Tomas ', 'Hannah Kerner', 'Jake Adler',\n",
              "       'Kira Kai Yamazaki-Gray', 'Miliopuna Davis', 'Kahakuhailoa Poepoe',\n",
              "       'Wailana ', 'Wailana', 'Kairee ', 'Kairee', 'Joshua D Hinau-Nanod',\n",
              "       'Brigette Tomas', 'Nicholas Adams', 'jerr isdale', 'Sean',\n",
              "       'Paige Moffitt ', 'Dustin Palos', 'Julian Marcus Boone-Rogers',\n",
              "       'Julian Boone', 'Mary Alleca', 'Jeffrey Wayer', 'Jeffrey wayer ',\n",
              "       'Nick Adams', 'Pono Fortune', 'jerryisfale', 'Olivia Gray',\n",
              "       'pono fortunr', 'jerry isfale', 'CWC', 'Cwc', 'Anna G',\n",
              "       'Mary Alleca0', 'Mary Alleca0+', 'Michele Weinhouse', 'Aubrey',\n",
              "       'Jayleen ', 'ervina', 'Alex ', 'Geiv ', 'Makamae', 'Andrei',\n",
              "       'Hershey Lei', 'ervina ', 'Jayleen', 'Rennan', 'Makamae ', \"Hi'\",\n",
              "       'Miguel', 'NV', 'Jeffrey wayet', 'Jeffrey Wayet', 'Rohan Fahland ',\n",
              "       'Anna G.', 'Carter Rosenthal'], dtype=object)"
            ]
          },
          "metadata": {},
          "execution_count": 7
        }
      ],
      "source": [
        "data[\"Your name\"].unique()"
      ]
    },
    {
      "cell_type": "markdown",
      "metadata": {
        "id": "zsysIDPjRhRs"
      },
      "source": [
        "❗️Task❗️: How might I figure out what the unique field types are in the data?\n",
        "\n",
        "The correct output is:\n",
        "\n",
        "```\n",
        "['Fallow', 'Multiple crops', 'One crop', 'Pasture', 'Home garden or irregular', 'Windbreak']\n",
        "```\n",
        "\n",
        "*hint*: This data is captured in a column with the following name: `\"Are there no crops (fallow or pasture), one crop, or multiple crops growing in the field?\"`"
      ]
    },
    {
      "cell_type": "code",
      "execution_count": null,
      "metadata": {
        "id": "YV7KLXUARhRs"
      },
      "outputs": [],
      "source": [
        "# Your code here"
      ]
    },
    {
      "cell_type": "markdown",
      "metadata": {
        "id": "y3R7KlhmRhRt"
      },
      "source": [
        "Another useful thing I can do with the `data` is to **filter** it. Let's say I only want data points that I have collected:"
      ]
    },
    {
      "cell_type": "code",
      "execution_count": null,
      "metadata": {
        "id": "SaeJQnveRhRt"
      },
      "outputs": [],
      "source": [
        "my_points = data[data[\"Your name\"] == \"Gabriel Tseng\"]"
      ]
    },
    {
      "cell_type": "code",
      "execution_count": null,
      "metadata": {
        "colab": {
          "base_uri": "https://localhost:8080/",
          "height": 722
        },
        "id": "CYkI7aJsRhRt",
        "outputId": "232b0e06-916a-4183-df2f-82ec9c802796"
      },
      "outputs": [
        {
          "output_type": "execute_result",
          "data": {
            "text/plain": [
              "     ObjectID                              GlobalID          CreationDate  \\\n",
              "4           5  66e0706a-cf80-49f6-92a3-e788bc1d003f  1/17/2023 9:10:44 PM   \n",
              "9          10  794b6ff3-a692-428c-8b41-336ff5855639  1/27/2023 2:27:59 AM   \n",
              "30         31  ba2fd34e-9777-4f09-ac59-d761aa2675f4  1/31/2023 4:04:24 AM   \n",
              "177       178  49e8d9d2-e3c8-4ba1-bf46-9d5aa2a8b547  2/15/2023 7:15:26 PM   \n",
              "178       179  16236493-b468-4898-b4cc-3dcd3420ace5  2/15/2023 7:15:34 PM   \n",
              "\n",
              "                        Creator              EditDate  \\\n",
              "4    NASAHarvestCollector_UofMD  1/17/2023 9:10:44 PM   \n",
              "9    NASAHarvestCollector_UofMD  1/27/2023 2:27:59 AM   \n",
              "30   NASAHarvestCollector_UofMD  1/31/2023 4:04:24 AM   \n",
              "177  NASAHarvestCollector_UofMD  2/15/2023 7:15:26 PM   \n",
              "178  NASAHarvestCollector_UofMD  2/15/2023 7:15:34 PM   \n",
              "\n",
              "                         Editor      Your name  \\\n",
              "4    NASAHarvestCollector_UofMD  Gabriel Tseng   \n",
              "9    NASAHarvestCollector_UofMD  Gabriel Tseng   \n",
              "30   NASAHarvestCollector_UofMD  Gabriel Tseng   \n",
              "177  NASAHarvestCollector_UofMD  Gabriel Tseng   \n",
              "178  NASAHarvestCollector_UofMD  Gabriel Tseng   \n",
              "\n",
              "    What is the date and time of collection?  \\\n",
              "4                                        NaN   \n",
              "9                                        NaN   \n",
              "30                                       NaN   \n",
              "177                                      NaN   \n",
              "178                                      NaN   \n",
              "\n",
              "    Where are you recording the point?  \\\n",
              "4             On the edge of the field   \n",
              "9             On the edge of the field   \n",
              "30                    Inside the field   \n",
              "177                   Inside the field   \n",
              "178                   Inside the field   \n",
              "\n",
              "    Are there no crops (fallow or pasture), one crop, or multiple crops growing in the field?  \\\n",
              "4                                              Pasture                                          \n",
              "9                                              Pasture                                          \n",
              "30                                      Multiple crops                                          \n",
              "177                                           One crop                                          \n",
              "178                                           One crop                                          \n",
              "\n",
              "    Which crop(s) are present in the field?  \\\n",
              "4                                       NaN   \n",
              "9                                       NaN   \n",
              "30                                    other   \n",
              "177                           macadamia_nut   \n",
              "178                         tropical_fruits   \n",
              "\n",
              "    Other - Which crop(s) are present in the field?  \\\n",
              "4                                               NaN   \n",
              "9                                               NaN   \n",
              "30                                              NaN   \n",
              "177                                             NaN   \n",
              "178                                             NaN   \n",
              "\n",
              "    [OPTIONAL] If you selected multiple crops in the previous question, is there a dominant crop?  \\\n",
              "4                                                  NaN                                              \n",
              "9                                                  NaN                                              \n",
              "30                                                 NaN                                              \n",
              "177                                                NaN                                              \n",
              "178                                                NaN                                              \n",
              "\n",
              "    Other - [OPTIONAL] If you selected multiple crops in the previous question, is there a dominant crop?  \\\n",
              "4                                                  NaN                                                      \n",
              "9                                                  NaN                                                      \n",
              "30                                                 NaN                                                      \n",
              "177                                                NaN                                                      \n",
              "178                                                NaN                                                      \n",
              "\n",
              "    [OPTIONAL] Additional notes           x          y  \n",
              "4                           NaN -156.343561  20.883135  \n",
              "9                           NaN -156.343293  20.883176  \n",
              "30                    Jackfruit -156.302448  20.914283  \n",
              "177                         NaN -157.048827  21.166240  \n",
              "178                       mango -157.047812  21.166447  "
            ],
            "text/html": [
              "\n",
              "  <div id=\"df-3b274687-7382-49ec-b0d2-b1c0d832e044\">\n",
              "    <div class=\"colab-df-container\">\n",
              "      <div>\n",
              "<style scoped>\n",
              "    .dataframe tbody tr th:only-of-type {\n",
              "        vertical-align: middle;\n",
              "    }\n",
              "\n",
              "    .dataframe tbody tr th {\n",
              "        vertical-align: top;\n",
              "    }\n",
              "\n",
              "    .dataframe thead th {\n",
              "        text-align: right;\n",
              "    }\n",
              "</style>\n",
              "<table border=\"1\" class=\"dataframe\">\n",
              "  <thead>\n",
              "    <tr style=\"text-align: right;\">\n",
              "      <th></th>\n",
              "      <th>ObjectID</th>\n",
              "      <th>GlobalID</th>\n",
              "      <th>CreationDate</th>\n",
              "      <th>Creator</th>\n",
              "      <th>EditDate</th>\n",
              "      <th>Editor</th>\n",
              "      <th>Your name</th>\n",
              "      <th>What is the date and time of collection?</th>\n",
              "      <th>Where are you recording the point?</th>\n",
              "      <th>Are there no crops (fallow or pasture), one crop, or multiple crops growing in the field?</th>\n",
              "      <th>Which crop(s) are present in the field?</th>\n",
              "      <th>Other - Which crop(s) are present in the field?</th>\n",
              "      <th>[OPTIONAL] If you selected multiple crops in the previous question, is there a dominant crop?</th>\n",
              "      <th>Other - [OPTIONAL] If you selected multiple crops in the previous question, is there a dominant crop?</th>\n",
              "      <th>[OPTIONAL] Additional notes</th>\n",
              "      <th>x</th>\n",
              "      <th>y</th>\n",
              "    </tr>\n",
              "  </thead>\n",
              "  <tbody>\n",
              "    <tr>\n",
              "      <th>4</th>\n",
              "      <td>5</td>\n",
              "      <td>66e0706a-cf80-49f6-92a3-e788bc1d003f</td>\n",
              "      <td>1/17/2023 9:10:44 PM</td>\n",
              "      <td>NASAHarvestCollector_UofMD</td>\n",
              "      <td>1/17/2023 9:10:44 PM</td>\n",
              "      <td>NASAHarvestCollector_UofMD</td>\n",
              "      <td>Gabriel Tseng</td>\n",
              "      <td>NaN</td>\n",
              "      <td>On the edge of the field</td>\n",
              "      <td>Pasture</td>\n",
              "      <td>NaN</td>\n",
              "      <td>NaN</td>\n",
              "      <td>NaN</td>\n",
              "      <td>NaN</td>\n",
              "      <td>NaN</td>\n",
              "      <td>-156.343561</td>\n",
              "      <td>20.883135</td>\n",
              "    </tr>\n",
              "    <tr>\n",
              "      <th>9</th>\n",
              "      <td>10</td>\n",
              "      <td>794b6ff3-a692-428c-8b41-336ff5855639</td>\n",
              "      <td>1/27/2023 2:27:59 AM</td>\n",
              "      <td>NASAHarvestCollector_UofMD</td>\n",
              "      <td>1/27/2023 2:27:59 AM</td>\n",
              "      <td>NASAHarvestCollector_UofMD</td>\n",
              "      <td>Gabriel Tseng</td>\n",
              "      <td>NaN</td>\n",
              "      <td>On the edge of the field</td>\n",
              "      <td>Pasture</td>\n",
              "      <td>NaN</td>\n",
              "      <td>NaN</td>\n",
              "      <td>NaN</td>\n",
              "      <td>NaN</td>\n",
              "      <td>NaN</td>\n",
              "      <td>-156.343293</td>\n",
              "      <td>20.883176</td>\n",
              "    </tr>\n",
              "    <tr>\n",
              "      <th>30</th>\n",
              "      <td>31</td>\n",
              "      <td>ba2fd34e-9777-4f09-ac59-d761aa2675f4</td>\n",
              "      <td>1/31/2023 4:04:24 AM</td>\n",
              "      <td>NASAHarvestCollector_UofMD</td>\n",
              "      <td>1/31/2023 4:04:24 AM</td>\n",
              "      <td>NASAHarvestCollector_UofMD</td>\n",
              "      <td>Gabriel Tseng</td>\n",
              "      <td>NaN</td>\n",
              "      <td>Inside the field</td>\n",
              "      <td>Multiple crops</td>\n",
              "      <td>other</td>\n",
              "      <td>NaN</td>\n",
              "      <td>NaN</td>\n",
              "      <td>NaN</td>\n",
              "      <td>Jackfruit</td>\n",
              "      <td>-156.302448</td>\n",
              "      <td>20.914283</td>\n",
              "    </tr>\n",
              "    <tr>\n",
              "      <th>177</th>\n",
              "      <td>178</td>\n",
              "      <td>49e8d9d2-e3c8-4ba1-bf46-9d5aa2a8b547</td>\n",
              "      <td>2/15/2023 7:15:26 PM</td>\n",
              "      <td>NASAHarvestCollector_UofMD</td>\n",
              "      <td>2/15/2023 7:15:26 PM</td>\n",
              "      <td>NASAHarvestCollector_UofMD</td>\n",
              "      <td>Gabriel Tseng</td>\n",
              "      <td>NaN</td>\n",
              "      <td>Inside the field</td>\n",
              "      <td>One crop</td>\n",
              "      <td>macadamia_nut</td>\n",
              "      <td>NaN</td>\n",
              "      <td>NaN</td>\n",
              "      <td>NaN</td>\n",
              "      <td>NaN</td>\n",
              "      <td>-157.048827</td>\n",
              "      <td>21.166240</td>\n",
              "    </tr>\n",
              "    <tr>\n",
              "      <th>178</th>\n",
              "      <td>179</td>\n",
              "      <td>16236493-b468-4898-b4cc-3dcd3420ace5</td>\n",
              "      <td>2/15/2023 7:15:34 PM</td>\n",
              "      <td>NASAHarvestCollector_UofMD</td>\n",
              "      <td>2/15/2023 7:15:34 PM</td>\n",
              "      <td>NASAHarvestCollector_UofMD</td>\n",
              "      <td>Gabriel Tseng</td>\n",
              "      <td>NaN</td>\n",
              "      <td>Inside the field</td>\n",
              "      <td>One crop</td>\n",
              "      <td>tropical_fruits</td>\n",
              "      <td>NaN</td>\n",
              "      <td>NaN</td>\n",
              "      <td>NaN</td>\n",
              "      <td>mango</td>\n",
              "      <td>-157.047812</td>\n",
              "      <td>21.166447</td>\n",
              "    </tr>\n",
              "  </tbody>\n",
              "</table>\n",
              "</div>\n",
              "      <button class=\"colab-df-convert\" onclick=\"convertToInteractive('df-3b274687-7382-49ec-b0d2-b1c0d832e044')\"\n",
              "              title=\"Convert this dataframe to an interactive table.\"\n",
              "              style=\"display:none;\">\n",
              "        \n",
              "  <svg xmlns=\"http://www.w3.org/2000/svg\" height=\"24px\"viewBox=\"0 0 24 24\"\n",
              "       width=\"24px\">\n",
              "    <path d=\"M0 0h24v24H0V0z\" fill=\"none\"/>\n",
              "    <path d=\"M18.56 5.44l.94 2.06.94-2.06 2.06-.94-2.06-.94-.94-2.06-.94 2.06-2.06.94zm-11 1L8.5 8.5l.94-2.06 2.06-.94-2.06-.94L8.5 2.5l-.94 2.06-2.06.94zm10 10l.94 2.06.94-2.06 2.06-.94-2.06-.94-.94-2.06-.94 2.06-2.06.94z\"/><path d=\"M17.41 7.96l-1.37-1.37c-.4-.4-.92-.59-1.43-.59-.52 0-1.04.2-1.43.59L10.3 9.45l-7.72 7.72c-.78.78-.78 2.05 0 2.83L4 21.41c.39.39.9.59 1.41.59.51 0 1.02-.2 1.41-.59l7.78-7.78 2.81-2.81c.8-.78.8-2.07 0-2.86zM5.41 20L4 18.59l7.72-7.72 1.47 1.35L5.41 20z\"/>\n",
              "  </svg>\n",
              "      </button>\n",
              "      \n",
              "  <style>\n",
              "    .colab-df-container {\n",
              "      display:flex;\n",
              "      flex-wrap:wrap;\n",
              "      gap: 12px;\n",
              "    }\n",
              "\n",
              "    .colab-df-convert {\n",
              "      background-color: #E8F0FE;\n",
              "      border: none;\n",
              "      border-radius: 50%;\n",
              "      cursor: pointer;\n",
              "      display: none;\n",
              "      fill: #1967D2;\n",
              "      height: 32px;\n",
              "      padding: 0 0 0 0;\n",
              "      width: 32px;\n",
              "    }\n",
              "\n",
              "    .colab-df-convert:hover {\n",
              "      background-color: #E2EBFA;\n",
              "      box-shadow: 0px 1px 2px rgba(60, 64, 67, 0.3), 0px 1px 3px 1px rgba(60, 64, 67, 0.15);\n",
              "      fill: #174EA6;\n",
              "    }\n",
              "\n",
              "    [theme=dark] .colab-df-convert {\n",
              "      background-color: #3B4455;\n",
              "      fill: #D2E3FC;\n",
              "    }\n",
              "\n",
              "    [theme=dark] .colab-df-convert:hover {\n",
              "      background-color: #434B5C;\n",
              "      box-shadow: 0px 1px 3px 1px rgba(0, 0, 0, 0.15);\n",
              "      filter: drop-shadow(0px 1px 2px rgba(0, 0, 0, 0.3));\n",
              "      fill: #FFFFFF;\n",
              "    }\n",
              "  </style>\n",
              "\n",
              "      <script>\n",
              "        const buttonEl =\n",
              "          document.querySelector('#df-3b274687-7382-49ec-b0d2-b1c0d832e044 button.colab-df-convert');\n",
              "        buttonEl.style.display =\n",
              "          google.colab.kernel.accessAllowed ? 'block' : 'none';\n",
              "\n",
              "        async function convertToInteractive(key) {\n",
              "          const element = document.querySelector('#df-3b274687-7382-49ec-b0d2-b1c0d832e044');\n",
              "          const dataTable =\n",
              "            await google.colab.kernel.invokeFunction('convertToInteractive',\n",
              "                                                     [key], {});\n",
              "          if (!dataTable) return;\n",
              "\n",
              "          const docLinkHtml = 'Like what you see? Visit the ' +\n",
              "            '<a target=\"_blank\" href=https://colab.research.google.com/notebooks/data_table.ipynb>data table notebook</a>'\n",
              "            + ' to learn more about interactive tables.';\n",
              "          element.innerHTML = '';\n",
              "          dataTable['output_type'] = 'display_data';\n",
              "          await google.colab.output.renderOutput(dataTable, element);\n",
              "          const docLink = document.createElement('div');\n",
              "          docLink.innerHTML = docLinkHtml;\n",
              "          element.appendChild(docLink);\n",
              "        }\n",
              "      </script>\n",
              "    </div>\n",
              "  </div>\n",
              "  "
            ]
          },
          "metadata": {},
          "execution_count": 9
        }
      ],
      "source": [
        "my_points"
      ]
    },
    {
      "cell_type": "markdown",
      "metadata": {
        "id": "z8oQAl-7RhRt"
      },
      "source": [
        "What's going on in this code?\n",
        "\n",
        "Some of it looks familiar:\n",
        "\n",
        "```python\n",
        "my_points = data[<SOMETHING>]\n",
        "```\n",
        "where\n",
        "```python\n",
        "<SOMETHING> = <data[\"Your name\"] == \"Gabriel Tseng\">\n",
        "```\n",
        "So what does this something look like? "
      ]
    },
    {
      "cell_type": "code",
      "execution_count": null,
      "metadata": {
        "id": "54PNEYRSRhRu",
        "outputId": "ffd5ad3e-4302-4c89-c8d9-42eb9cc9af52"
      },
      "outputs": [
        {
          "data": {
            "text/plain": [
              "0      False\n",
              "1      False\n",
              "2      False\n",
              "3      False\n",
              "4       True\n",
              "       ...  \n",
              "268    False\n",
              "269    False\n",
              "270    False\n",
              "271    False\n",
              "272    False\n",
              "Name: Your name, Length: 273, dtype: bool"
            ]
          },
          "execution_count": 10,
          "metadata": {},
          "output_type": "execute_result"
        }
      ],
      "source": [
        "data[\"Your name\"] == \"Gabriel Tseng\""
      ]
    },
    {
      "cell_type": "markdown",
      "metadata": {
        "id": "saOl5wtCRhRu"
      },
      "source": [
        "Its a list with lots of values saying `True` or `False`. It tells me whether or not a row matches the condition - where it says `True`, then that row's `\"Your name\"` column does equal `\"Gabriel Tseng\"`.\n",
        "\n",
        "So when I give pandas this list, `data[<A True/False LIST>]`, I am telling pandas \"keep the rows where its `True`, and remove those where its not.\n",
        "\n",
        "❗️Task❗️: Isolate the points that you have collected"
      ]
    },
    {
      "cell_type": "code",
      "execution_count": null,
      "metadata": {
        "id": "QGRR_PNKRhRu"
      },
      "outputs": [],
      "source": [
        "# your code here"
      ]
    },
    {
      "cell_type": "markdown",
      "metadata": {
        "id": "mrTLyI81RhRu"
      },
      "source": [
        "### Plotting\n",
        "\n",
        "Being able to visually look at the data - just like Hannah did in the slides earlier - is a really helpful way to quickly get a feel for the entire dataset.\n",
        "\n",
        "This might help you better understand which columns you want to filter against, for example.\n",
        "\n",
        "How many points per field type have we collected?"
      ]
    },
    {
      "cell_type": "code",
      "execution_count": null,
      "metadata": {
        "id": "Wq22spnFRhRv",
        "outputId": "5ca057ae-3cad-4938-cffb-855300121061"
      },
      "outputs": [
        {
          "data": {
            "image/png": "[encoded data removed]",
            "text/plain": [
              "<Figure size 432x288 with 1 Axes>"
            ]
          },
          "metadata": {
            "needs_background": "light"
          },
          "output_type": "display_data"
        }
      ],
      "source": [
        "column_name = \"Are there no crops (fallow or pasture), one crop, or multiple crops growing in the field?\"\n",
        "ax = data[column_name].value_counts().plot(kind='bar')\n",
        "ax.set_xlabel(\"Field types\")\n",
        "ax.set_ylabel(\"Number of points\")\n",
        "plt.show()"
      ]
    }
  ],
  "metadata": {
    "kernelspec": {
      "display_name": "Python 3",
      "language": "python",
      "name": "python3"
    },
    "language_info": {
      "codemirror_mode": {
        "name": "ipython",
        "version": 3
      },
      "file_extension": ".py",
      "mimetype": "text/x-python",
      "name": "python",
      "nbconvert_exporter": "python",
      "pygments_lexer": "ipython3",
      "version": "3.7.11"
    },
    "colab": {
      "provenance": [],
      "include_colab_link": true
    }
  },
  "nbformat": 4,
  "nbformat_minor": 0
}